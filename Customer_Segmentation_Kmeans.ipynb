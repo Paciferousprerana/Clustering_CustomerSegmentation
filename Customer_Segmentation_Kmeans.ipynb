{
  "nbformat": 4,
  "nbformat_minor": 0,
  "metadata": {
    "colab": {
      "provenance": []
    },
    "kernelspec": {
      "display_name": "Python 3",
      "language": "python",
      "name": "python3"
    },
    "language_info": {
      "codemirror_mode": {
        "name": "ipython",
        "version": 3
      },
      "file_extension": ".py",
      "mimetype": "text/x-python",
      "name": "python",
      "nbconvert_exporter": "python",
      "pygments_lexer": "ipython3",
      "version": "3.6.9"
    }
  },
  "cells": [
    {
      "cell_type": "markdown",
      "metadata": {
        "id": "aUUu9l_JfJ92"
      },
      "source": [
        "# Customer segmentation using clustering"
      ]
    },
    {
      "cell_type": "markdown",
      "metadata": {
        "id": "SL3yrUc-XrLS"
      },
      "source": [
        "## Objectives"
      ]
    },
    {
      "cell_type": "markdown",
      "metadata": {
        "id": "7jZ3M2hjiyb0"
      },
      "source": [
        "* extract summary level insight from a given customer dataset.\n",
        "\n",
        "* handle the missing data and identify the underlying pattern or structure of the data.\n",
        "\n",
        "* create an unsupervised model that generates the optimum number of segments for the customer base\n",
        "\n",
        "* identify customer segments based on the overall buying behaviour\n"
      ]
    },
    {
      "cell_type": "markdown",
      "metadata": {
        "id": "-EqvTSjZZIUE"
      },
      "source": [
        "## Dataset"
      ]
    },
    {
      "cell_type": "markdown",
      "metadata": {
        "id": "interior-simple"
      },
      "source": [
        "The dataset chosen for this project is the Online Retail dataset. It is a transnational data set which contains all the transactions occurring between 01/12/2010 and 09/12/2011 for a UK-based and registered non-store online retail.\n",
        "\n",
        "The dataset contains 541909 records, and each record is made up of 8 fields.\n",
        "\n",
        "Download the dataset : [click here](https://archive.ics.uci.edu/ml/datasets/Online+Retail)"
      ]
    },
    {
      "cell_type": "markdown",
      "metadata": {
        "id": "eY8QnQQ_i8oy"
      },
      "source": [
        "## Problem Statement"
      ]
    },
    {
      "cell_type": "markdown",
      "metadata": {
        "id": "MhyOGhrYi8oz"
      },
      "source": [
        "Perform customer segmentation for an Online Retail using an Unsupervised Clustering technique"
      ]
    },
    {
      "cell_type": "markdown",
      "metadata": {
        "id": "abstract-stocks"
      },
      "source": [
        "### Import Required packages"
      ]
    },
    {
      "cell_type": "code",
      "metadata": {
        "id": "advisory-knowing"
      },
      "source": [
        "from matplotlib import pyplot as plt\n",
        "import numpy as np\n",
        "import pandas as pd\n",
        "import seaborn as sns\n",
        "import scipy\n",
        "from sklearn.cluster import KMeans\n",
        "from sklearn.model_selection import train_test_split\n",
        "from sklearn.preprocessing import StandardScaler\n",
        "from sklearn.cluster import DBSCAN\n",
        "from mpl_toolkits import mplot3d\n",
        "from yellowbrick.cluster import SilhouetteVisualizer\n",
        "from sklearn.metrics import silhouette_score\n",
        "from sklearn.model_selection import RepeatedStratifiedKFold, cross_val_score\n",
        "from sklearn import metrics              \n",
        "from sklearn.ensemble import AdaBoostClassifier\n",
        "from sklearn.tree import DecisionTreeClassifier, plot_tree "
      ],
      "execution_count": null,
      "outputs": []
    },
    {
      "cell_type": "markdown",
      "metadata": {
        "id": "bound-basement"
      },
      "source": [
        "## Data Wrangling"
      ]
    },
    {
      "cell_type": "markdown",
      "source": [
        "Download the data"
      ],
      "metadata": {
        "id": "1KPkbqGIBVgU"
      }
    },
    {
      "cell_type": "markdown",
      "metadata": {
        "id": "7Vu9jhC5jJHs"
      },
      "source": [
        "## Load the data"
      ]
    },
    {
      "cell_type": "code",
      "metadata": {
        "id": "RdvmgyZRdZup"
      },
      "source": [
        "df_train = pd.read_csv('Online_Retail_Train.csv')"
      ],
      "execution_count": null,
      "outputs": []
    },
    {
      "cell_type": "code",
      "source": [
        "df_train.shape"
      ],
      "metadata": {
        "id": "1KDn_NlyL_MI"
      },
      "execution_count": null,
      "outputs": []
    },
    {
      "cell_type": "markdown",
      "metadata": {
        "id": "vtV_KWBLUzRk"
      },
      "source": [
        "## Data Pre-processing"
      ]
    },
    {
      "cell_type": "markdown",
      "metadata": {
        "id": "VcCVvb_RjPxy"
      },
      "source": [
        "Explore the dataset by performing the following operations:\n",
        "\n",
        "* There is a lot of redundant data. Identify such data and take appropriate action.\n",
        "\n",
        "* Most Invoices appear as normal transactions with positive quantity and prices, but there are some prefixed with \"C\" or \"A\" which denote different transaction types. Invoice starting with C represents cancelled order and A represents the Adjusted. Identify such data and take appropriate action.\n",
        "\n",
        "* Handle the null values by dropping or filling with appropriate mean\n",
        "\n",
        "\n",
        "* Some of the transactions based on the `StockCode` variable are not actually products, but representing the costs or fees regarding to the post or bank or other tansactions. Find such data and handle it accordingly.\n",
        "\n",
        "* Identify the outliers in the UntiPrice and Quantity and handle them accordingly.\n",
        "\n",
        "* Create a DayOfWeek column using `InvoiceDate`."
      ]
    },
    {
      "cell_type": "code",
      "metadata": {
        "id": "Lj5VPXN1dZuq"
      },
      "source": [
        "df_train.head()"
      ],
      "execution_count": null,
      "outputs": []
    },
    {
      "cell_type": "code",
      "source": [
        "df_train.info()"
      ],
      "metadata": {
        "id": "2Q3RU8TdMPGv"
      },
      "execution_count": null,
      "outputs": []
    },
    {
      "cell_type": "code",
      "source": [
        "duplicate_count = df_train[df_train.duplicated()]\n",
        "len(duplicate_count)"
      ],
      "metadata": {
        "id": "8jHMZdoOMO-0"
      },
      "execution_count": null,
      "outputs": []
    },
    {
      "cell_type": "code",
      "source": [
        "df_train.drop_duplicates(subset=None, keep='first', inplace=True, ignore_index=False)\n",
        "df_train.shape"
      ],
      "metadata": {
        "id": "dO_QqE-1MO-Q"
      },
      "execution_count": null,
      "outputs": []
    },
    {
      "cell_type": "code",
      "source": [
        "df_train.isnull().sum()"
      ],
      "metadata": {
        "id": "6un0tj7qUWSa"
      },
      "execution_count": null,
      "outputs": []
    },
    {
      "cell_type": "code",
      "source": [
        "df_train.dropna(inplace=True)"
      ],
      "metadata": {
        "id": "WBgar02yVp7H"
      },
      "execution_count": null,
      "outputs": []
    },
    {
      "cell_type": "code",
      "source": [
        "df_train.shape"
      ],
      "metadata": {
        "id": "0utdtMR_Vp4a"
      },
      "execution_count": null,
      "outputs": []
    },
    {
      "cell_type": "code",
      "source": [
        "df_train.isnull().sum()"
      ],
      "metadata": {
        "id": "RVQJlZXWYTJk"
      },
      "execution_count": null,
      "outputs": []
    },
    {
      "cell_type": "code",
      "source": [
        "dfC = df_train[df_train['InvoiceNo'].str.startswith('C')]\n",
        "dfC"
      ],
      "metadata": {
        "id": "MpQmmOp0MO9n"
      },
      "execution_count": null,
      "outputs": []
    },
    {
      "cell_type": "code",
      "source": [
        "dfA = df_train[df_train['InvoiceNo'].str.startswith('A')]\n",
        "dfA"
      ],
      "metadata": {
        "id": "yjnSoDxAMO0V"
      },
      "execution_count": null,
      "outputs": []
    },
    {
      "cell_type": "code",
      "source": [
        "df_train.drop(df_train[df_train['InvoiceNo'].str.startswith('C')].index, inplace=True)"
      ],
      "metadata": {
        "id": "KfwynTf7h5N_"
      },
      "execution_count": null,
      "outputs": []
    },
    {
      "cell_type": "code",
      "source": [
        "df_train[df_train['InvoiceNo'].str.startswith('C')]"
      ],
      "metadata": {
        "id": "wmKjqbPIiGe_"
      },
      "execution_count": null,
      "outputs": []
    },
    {
      "cell_type": "code",
      "source": [
        "df_train[df_train['Quantity']<0]"
      ],
      "metadata": {
        "id": "-FFapq03iK17"
      },
      "execution_count": null,
      "outputs": []
    },
    {
      "cell_type": "code",
      "source": [
        "#The transaction with 'POST' 'PADS' 'M' 'DOT' 'C2' 'BANK CHARGES' 'CRUK' 'AMAZONFEE' 'gift_0001_10'   as their StockCodes are considered as irrelevant transactions."
      ],
      "metadata": {
        "id": "HitZ9nWabSx7"
      },
      "execution_count": null,
      "outputs": []
    },
    {
      "cell_type": "code",
      "source": [
        "print(df_train['StockCode'].unique())"
      ],
      "metadata": {
        "id": "wP9p6smBbSxd"
      },
      "execution_count": null,
      "outputs": []
    },
    {
      "cell_type": "code",
      "source": [
        "df_train[df_train['StockCode'].str[0].str.isalpha()]"
      ],
      "metadata": {
        "id": "i9waV0SpbSw8"
      },
      "execution_count": null,
      "outputs": []
    },
    {
      "cell_type": "code",
      "source": [
        "df_train.drop(df_train[df_train['StockCode'].str[0].str.isalpha()].index, inplace=True)"
      ],
      "metadata": {
        "id": "_darKNHEbSop"
      },
      "execution_count": null,
      "outputs": []
    },
    {
      "cell_type": "code",
      "source": [
        "df_train[df_train['StockCode'].str[0].str.isalpha()]"
      ],
      "metadata": {
        "id": "rK9kl7AYbSn6"
      },
      "execution_count": null,
      "outputs": []
    },
    {
      "cell_type": "code",
      "source": [
        "plt.figure(figsize=(5,5))\n",
        "plt.scatter(df_train['UnitPrice'], df_train['Quantity'])"
      ],
      "metadata": {
        "id": "d62g15D_bSnM"
      },
      "execution_count": null,
      "outputs": []
    },
    {
      "cell_type": "code",
      "source": [
        "print(df_train.shape)\n",
        "df_train.drop(df_train[(df_train['Quantity']>3500) | (df_train['UnitPrice']>200)].index, inplace=True)\n",
        "df_train.shape"
      ],
      "metadata": {
        "id": "ursDjElhpvQT"
      },
      "execution_count": null,
      "outputs": []
    },
    {
      "cell_type": "code",
      "source": [
        "plt.figure(figsize=(5,5))\n",
        "plt.scatter(df_train['UnitPrice'], df_train['Quantity'])"
      ],
      "metadata": {
        "id": "7jUJ2ASFpvM0"
      },
      "execution_count": null,
      "outputs": []
    },
    {
      "cell_type": "code",
      "source": [
        "df_train['InvoiceDate'] = pd.to_datetime(df_train['InvoiceDate'])\n",
        "df_train['InvoiceDate'].dtype"
      ],
      "metadata": {
        "id": "Dk4chQoe9Bid"
      },
      "execution_count": null,
      "outputs": []
    },
    {
      "cell_type": "code",
      "source": [
        "df_train['DayOfWeek'] = df_train['InvoiceDate'].dt.day_name()"
      ],
      "metadata": {
        "id": "32NPOXfg9BXm"
      },
      "execution_count": null,
      "outputs": []
    },
    {
      "cell_type": "code",
      "source": [
        "df_train.head()"
      ],
      "metadata": {
        "id": "1Tt4Q8tN9BLW"
      },
      "execution_count": null,
      "outputs": []
    },
    {
      "cell_type": "code",
      "source": [],
      "metadata": {
        "id": "uf3pjztg9A_y"
      },
      "execution_count": null,
      "outputs": []
    },
    {
      "cell_type": "markdown",
      "metadata": {
        "id": "graphic-vampire"
      },
      "source": [
        "## Understanding new insights from the data"
      ]
    },
    {
      "cell_type": "markdown",
      "metadata": {
        "id": "furnished-station"
      },
      "source": [
        "1.  Are there any free items in the data? How many are there?\n",
        "\n",
        "2.  Find the number of transactions per country and visualize using an appropriate plot\n",
        "\n",
        "3.  What is the ratio of customers who are repeat purchasers vs single-time purchasers? Visualize using an appropriate plot.\n",
        "\n",
        "4. Plot heatmap showing unit price per month and day of the week\n",
        "\n",
        "5. Find the top 10 customers who bought the most no.of items. Also the top 10 Items bought by most no.of customers."
      ]
    },
    {
      "cell_type": "code",
      "metadata": {
        "id": "Fe-6_IuzFJJM"
      },
      "source": [
        "df_train[df_train['UnitPrice']==0].shape"
      ],
      "execution_count": null,
      "outputs": []
    },
    {
      "cell_type": "code",
      "source": [
        "df_train['Country'].value_counts()"
      ],
      "metadata": {
        "id": "wwnwLdln_XnF"
      },
      "execution_count": null,
      "outputs": []
    },
    {
      "cell_type": "code",
      "source": [
        "plt.figure(figsize=(10,10))\n",
        "plt.barh(df_train['Country'].unique(),df_train['Country'].value_counts() )\n",
        "plt.xscale('log')\n",
        "plt.xlabel('Transactions')\n",
        "plt.title('Transactions per country')\n",
        "plt.show()"
      ],
      "metadata": {
        "id": "LHPsGnK4-wiM"
      },
      "execution_count": null,
      "outputs": []
    },
    {
      "cell_type": "code",
      "source": [
        "repeat_cust = 0\n",
        "cust_id = df_train['CustomerID'].value_counts()\n",
        "for x in cust_id:\n",
        "  if x!=1:\n",
        "    repeat_cust+=1\n",
        "single_cust = 4356- repeat_cust\n",
        "repeat_cust, single_cust"
      ],
      "metadata": {
        "id": "vBSdnDQ2-wfu"
      },
      "execution_count": null,
      "outputs": []
    },
    {
      "cell_type": "code",
      "source": [
        "from fractions import Fraction\n",
        "repeat_single_fraction = repeat_cust/single_cust\n",
        "repeat_single_ratio = Fraction(repeat_single_fraction).limit_denominator()\n",
        "print(repeat_single_ratio)"
      ],
      "metadata": {
        "id": "WDJOX9Gu-wRq"
      },
      "execution_count": null,
      "outputs": []
    },
    {
      "cell_type": "code",
      "source": [
        "x_labels = ['Repeat Purchasers', 'Single-Time Purchasers']\n",
        "heights = [repeat_cust, single_cust]\n",
        "plt.figure(figsize=(7,7))\n",
        "plt.pie(heights, autopct='%1.1f%%', labels=x_labels)\n",
        "plt.show()"
      ],
      "metadata": {
        "id": "i5S7fonTMtyA"
      },
      "execution_count": null,
      "outputs": []
    },
    {
      "cell_type": "code",
      "source": [
        "df_train['MonthName'] =  pd.DatetimeIndex(df_train['InvoiceDate']).month"
      ],
      "metadata": {
        "id": "MwllHxePB9RV"
      },
      "execution_count": null,
      "outputs": []
    },
    {
      "cell_type": "code",
      "source": [
        "df_train.head()"
      ],
      "metadata": {
        "id": "eIeOyruGCXEv"
      },
      "execution_count": null,
      "outputs": []
    },
    {
      "cell_type": "code",
      "source": [
        "#heatmap\n",
        "# Create a pivot table with MonthName as index and DayOfWeek as columns\n",
        "table = pd.pivot_table(df_train, values='UnitPrice', index='MonthName', columns='DayOfWeek', aggfunc='sum')\n",
        "\n",
        "# Plot the heatmap using seaborn\n",
        "plt.figure(figsize = (10,7))\n",
        "sns.heatmap(table, cmap='cool')#'YlGnBu')\n",
        "plt.title('Unit price per month and day of the week', fontsize = 15)\n",
        "plt.show()"
      ],
      "metadata": {
        "id": "x52k0krNIZr-"
      },
      "execution_count": null,
      "outputs": []
    },
    {
      "cell_type": "code",
      "source": [
        "#top 10 customers\n",
        "groupby_cust = df_train.groupby('CustomerID').sum('Quantity')\n",
        "groupby_cust.sort_values(by='Quantity', ascending=False, inplace=True)\n",
        "groupby_cust.head(10)"
      ],
      "metadata": {
        "id": "jdVwGUx-Iblm"
      },
      "execution_count": null,
      "outputs": []
    },
    {
      "cell_type": "code",
      "source": [
        "#top 10 items\n",
        "groupby_item = df_train.groupby('StockCode').sum()\n",
        "groupby_item.sort_values(by='Quantity', ascending=False, inplace=True)\n",
        "groupby_item.head(10)"
      ],
      "metadata": {
        "id": "o-JulIsjmRhq"
      },
      "execution_count": null,
      "outputs": []
    },
    {
      "cell_type": "markdown",
      "metadata": {
        "id": "royal-chancellor"
      },
      "source": [
        "## Feature Engineering and Transformation"
      ]
    },
    {
      "cell_type": "markdown",
      "metadata": {
        "id": "dietary-willow"
      },
      "source": [
        "### Create new features to uncover better insights and drop the unwanted columns\n",
        "\n",
        "* Create a new column which represents Total amount spent by each customer\n",
        "\n",
        "* Customer IDs are seen to be repeated. Maintain unique customer IDs by grouping and summing up all possible observations per customer."
      ]
    },
    {
      "cell_type": "code",
      "metadata": {
        "id": "WCRODVjAdZuu"
      },
      "source": [
        "df_train['Total Amount'] = df_train['Quantity']*df_train['UnitPrice']\n",
        "df_train.head()"
      ],
      "execution_count": null,
      "outputs": []
    },
    {
      "cell_type": "code",
      "source": [
        "import datetime\n",
        "snapshot_date = datetime.datetime(2011, 12, 10)\n",
        "df = df_train.groupby(['CustomerID'],as_index=False).agg({\n",
        "'InvoiceDate': lambda x: (snapshot_date - x.max()).days,\n",
        "'InvoiceNo': 'count',\n",
        "'Total Amount': 'sum'}).rename(columns = {'InvoiceDate': 'Recency', 'InvoiceNo': 'Frequency','Total Amount': 'MonetaryValue'})"
      ],
      "metadata": {
        "id": "X62fZIItrFfz"
      },
      "execution_count": null,
      "outputs": []
    },
    {
      "cell_type": "code",
      "source": [
        "df.head()"
      ],
      "metadata": {
        "id": "InHb4EpErFSu"
      },
      "execution_count": null,
      "outputs": []
    },
    {
      "cell_type": "markdown",
      "metadata": {
        "id": "respected-empire"
      },
      "source": [
        "### Scale the data\n",
        " \n",
        "Apply `StandardScaler` on the features."
      ]
    },
    {
      "cell_type": "code",
      "source": [
        "plt.figure(figsize=(12,10))\n",
        "plt.subplot(3, 1, 1); sns.histplot(df['Recency'])\n",
        "plt.subplot(3, 1, 2); sns.histplot(df['Frequency'])\n",
        "plt.subplot(3, 1, 3); sns.histplot(df['MonetaryValue'])"
      ],
      "metadata": {
        "id": "_x4D2JIvtJTN"
      },
      "execution_count": null,
      "outputs": []
    },
    {
      "cell_type": "code",
      "source": [
        "df.describe()"
      ],
      "metadata": {
        "id": "vTXBtjfJxpt6"
      },
      "execution_count": null,
      "outputs": []
    },
    {
      "cell_type": "code",
      "source": [
        "df.drop(df[df['Recency']==0].index, inplace=True)"
      ],
      "metadata": {
        "id": "aT086kr6xsfS"
      },
      "execution_count": null,
      "outputs": []
    },
    {
      "cell_type": "code",
      "source": [
        "df1 = np.log10(df)"
      ],
      "metadata": {
        "id": "sRYZmCyQxDjb"
      },
      "execution_count": null,
      "outputs": []
    },
    {
      "cell_type": "code",
      "source": [
        "plt.figure(figsize=(12,10))\n",
        "plt.subplot(3, 1, 1); sns.histplot(df1['Recency'])\n",
        "plt.subplot(3, 1, 2); sns.histplot(df1['Frequency'])\n",
        "plt.subplot(3, 1, 3); sns.histplot(df1['MonetaryValue'])"
      ],
      "metadata": {
        "id": "jbpGzLxrxLPX"
      },
      "execution_count": null,
      "outputs": []
    },
    {
      "cell_type": "code",
      "source": [
        "df1.describe()"
      ],
      "metadata": {
        "id": "19xRM3fLtJQt"
      },
      "execution_count": null,
      "outputs": []
    },
    {
      "cell_type": "code",
      "source": [
        "df1.shape"
      ],
      "metadata": {
        "id": "WgWp5ge5hfjP"
      },
      "execution_count": null,
      "outputs": []
    },
    {
      "cell_type": "code",
      "source": [
        "# YOUR CODE HERE for scaling\n",
        "X = StandardScaler().fit_transform(df1[['Recency', 'Frequency', 'MonetaryValue']])"
      ],
      "metadata": {
        "id": "VT7kHQyAa7Fl"
      },
      "execution_count": null,
      "outputs": []
    },
    {
      "cell_type": "code",
      "source": [
        "X"
      ],
      "metadata": {
        "id": "D1U8boqhu2g1"
      },
      "execution_count": null,
      "outputs": []
    },
    {
      "cell_type": "markdown",
      "metadata": {
        "id": "smooth-florist"
      },
      "source": [
        "## Clustering"
      ]
    },
    {
      "cell_type": "markdown",
      "metadata": {
        "id": "rn1qD44PI0H_"
      },
      "source": [
        "### Apply k-means algorithm to identify a specific number of clusters\n",
        "\n",
        "\n",
        "* Fit the k-means model\n",
        "\n",
        "* Extract and store the cluster centroids"
      ]
    },
    {
      "cell_type": "code",
      "metadata": {
        "id": "GDjIF0_4HiIM"
      },
      "source": [
        "kmeans3 = KMeans(n_clusters=3, random_state=1, n_init=10)\n",
        "y_predict = kmeans3.fit_predict(X)\n",
        "plt.scatter(X[:,1], X[:,2], c=y_predict, cmap = 'summer')\n",
        "plt.show()"
      ],
      "execution_count": null,
      "outputs": []
    },
    {
      "cell_type": "code",
      "source": [
        "kmeans3.inertia_"
      ],
      "metadata": {
        "id": "OHnq9CjRwOBK"
      },
      "execution_count": null,
      "outputs": []
    },
    {
      "cell_type": "markdown",
      "metadata": {
        "id": "bpmFFF3VdZux"
      },
      "source": [
        "#### Find the optimal number of clusters (K) by using the Elbow method.\n",
        "\n",
        "Use the optimal no. of clusters and store the cluster centroids"
      ]
    },
    {
      "cell_type": "code",
      "metadata": {
        "id": "c3Db3IVBdZuy"
      },
      "source": [
        "# YOUR CODE HERE\n",
        "clusters = np.arange(1,10)\n",
        "inertia = []\n",
        "for c in clusters:\n",
        "    kmeans = KMeans(n_clusters = c, random_state=1, n_init=10)\n",
        "    kmeans.fit_predict(X) \n",
        "    inertia.append(kmeans.inertia_)\n",
        "plt.plot(clusters, inertia, marker= '.')\n",
        "plt.title('Inertia Plot')\n",
        "plt.xlabel(\"$k$\")\n",
        "plt.ylabel('Inertia')\n",
        "plt.show()"
      ],
      "execution_count": null,
      "outputs": []
    },
    {
      "cell_type": "code",
      "source": [
        "kmeans4 = KMeans(n_clusters=4, random_state=1, n_init=10)\n",
        "y_predict = kmeans4.fit_predict(X)\n",
        "plt.scatter(X[:,1], X[:,2], c=y_predict, cmap = 'summer')\n",
        "plt.show()"
      ],
      "metadata": {
        "id": "v0cl5UZ87TVw"
      },
      "execution_count": null,
      "outputs": []
    },
    {
      "cell_type": "code",
      "source": [
        "kmeans4.inertia_"
      ],
      "metadata": {
        "id": "PolHqidA7X3d"
      },
      "execution_count": null,
      "outputs": []
    },
    {
      "cell_type": "code",
      "source": [
        "kmeans5 = KMeans(n_clusters=5, random_state=1, n_init=10)\n",
        "y_predict = kmeans5.fit_predict(X)\n",
        "kmeans5.inertia_"
      ],
      "metadata": {
        "id": "_vk_-unFjp0N"
      },
      "execution_count": null,
      "outputs": []
    },
    {
      "cell_type": "code",
      "source": [
        "clusters = np.arange(2,10)\n",
        "sil_score = []\n",
        "for c in clusters:\n",
        "    kmeans = KMeans(n_clusters = c, random_state=1, n_init=10)\n",
        "    kmeans.fit(X)\n",
        "    sil_score.append(silhouette_score(X, kmeans.labels_))\n",
        "plt.plot(clusters, sil_score, marker= '.')\n",
        "plt.title('Silhouette score plot')\n",
        "plt.xlabel(\"$k$\")\n",
        "plt.ylabel(\"Silhouette score\")\n",
        "plt.show()"
      ],
      "metadata": {
        "id": "3wJVgkpT_OxO"
      },
      "execution_count": null,
      "outputs": []
    },
    {
      "cell_type": "code",
      "source": [
        "clusters = [2, 3, 4, 5]\n",
        "for c in clusters:\n",
        "    plt.figure(figsize=(6, 4))\n",
        "    kmeans = KMeans(c, random_state=1, n_init=10)\n",
        "    visualizer = SilhouetteVisualizer(kmeans, colors='yellowbrick')\n",
        "    visualizer.fit(X)        \n",
        "    plt.title(\"k={}\".format(c))\n",
        "    plt.xlabel(\"Silhoutte score\")\n",
        "    plt.ylabel('Number of Instances')\n",
        "    plt.show()"
      ],
      "metadata": {
        "id": "icULDtMB_1a6"
      },
      "execution_count": null,
      "outputs": []
    },
    {
      "cell_type": "markdown",
      "metadata": {
        "id": "0q7nKnfVK_Yj"
      },
      "source": [
        "### Apply DBSCAN algorithm for clustering\n",
        "\n",
        "- Compare the results of clusters from k-means and DBSCAN\n"
      ]
    },
    {
      "cell_type": "code",
      "metadata": {
        "id": "O8ahr6ctjp9o"
      },
      "source": [
        "dbscan = DBSCAN(eps=0.5, min_samples=10)\n",
        "dbscan.fit(X)\n",
        "print(\"Unique clusters in data: \", np.unique(dbscan.labels_))"
      ],
      "execution_count": null,
      "outputs": []
    },
    {
      "cell_type": "markdown",
      "metadata": {
        "id": "FarGC20zgjHj"
      },
      "source": [
        "### Analyze the clusters\n",
        "\n",
        "\n",
        "- consider two features and visualize the clusters with different colors using the predicted cluster centers.\n",
        "\n",
        "- consider three features and visualize the clusters with different colors using the predicted cluster centers."
      ]
    },
    {
      "cell_type": "code",
      "metadata": {
        "id": "07MVOFIidZuz"
      },
      "source": [
        "plt.scatter(X[:,1], X[:,2], c=y_predict, cmap = 'summer')\n",
        "plt.show()"
      ],
      "execution_count": null,
      "outputs": []
    },
    {
      "cell_type": "code",
      "source": [
        "fig = plt.figure(figsize = (10, 10))\n",
        "ax = plt.axes(projection =\"3d\")\n",
        "ax.scatter3D(X[:,0], X[:,1], X[:,2], c=y_predict, cmap = 'Accent')"
      ],
      "metadata": {
        "id": "c7ly1mcQBls4"
      },
      "execution_count": null,
      "outputs": []
    },
    {
      "cell_type": "markdown",
      "metadata": {
        "id": "zef_pWaE20pP"
      },
      "source": [
        "### Train a supervised algorithm on clustered data\n",
        "\n",
        "This will allow us to predict cluster numbers (label) for each test data instance\n",
        "\n",
        "* Create labelled data with k-means cluster labels\n",
        "* Split the data into train and validation sets\n",
        "* Train a supervised algorithm on the train data\n",
        "* Find the accuracy of the model using validation data"
      ]
    },
    {
      "cell_type": "code",
      "source": [
        "from sklearn.metrics import pairwise_distances_argmin_min"
      ],
      "metadata": {
        "id": "GuAGdnMs0hXR"
      },
      "execution_count": null,
      "outputs": []
    },
    {
      "cell_type": "code",
      "source": [
        "'''km = KMeans(n_clusters=4, n_init=10, random_state=1).fit(X)\n",
        "closest, _ = pairwise_distances_argmin_min(km.cluster_centers_, X)\n",
        "closest'''"
      ],
      "metadata": {
        "id": "u4Jz021109Pu"
      },
      "execution_count": null,
      "outputs": []
    },
    {
      "cell_type": "code",
      "source": [
        "'''print('Closest to cluster 1: ',X[160])\n",
        "print('Closest to cluster 2: ',X[3252])\n",
        "print('Closest to cluster 3: ',X[940])\n",
        "print('Closest to cluster 4: ',X[2894])'''"
      ],
      "metadata": {
        "id": "VmAlSBHV1oqC"
      },
      "execution_count": null,
      "outputs": []
    },
    {
      "cell_type": "code",
      "source": [
        "'''print(\"labels: \", km.labels_)\n",
        "mydict = {i: np.where(km.labels_ == i)[0] for i in range(km.n_clusters)}\n",
        "print('data points in centroid 1:',len(mydict[0]))\n",
        "print('data points in centroid 2:',len(mydict[1]))\n",
        "print('data points in centroid 3:',len(mydict[2]))\n",
        "print('data points in centroid 4:',len(mydict[3]))'''"
      ],
      "metadata": {
        "id": "IaqlUBqQ6cCT"
      },
      "execution_count": null,
      "outputs": []
    },
    {
      "cell_type": "code",
      "source": [
        "'''target = np.empty(len(X), dtype=np.int32)\n",
        "#labels = ['Lost Customers', 'Best Customers', 'At Risk Customers', 'New Customers']\n",
        "#labels = [0, 1, 2 ,3]\n",
        "for i in range(4):\n",
        "  temp = np.where(km.labels_ == i)[0]\n",
        "  for j in temp:\n",
        "    target[j] = i\n",
        "\n",
        "target'''"
      ],
      "metadata": {
        "id": "1VuBlXIB6b2l"
      },
      "execution_count": null,
      "outputs": []
    },
    {
      "cell_type": "code",
      "source": [
        "#np.unique(target)"
      ],
      "metadata": {
        "id": "N58Q8iqnFIee"
      },
      "execution_count": null,
      "outputs": []
    },
    {
      "cell_type": "code",
      "source": [
        "#y = target"
      ],
      "metadata": {
        "id": "7qesYkALHRMm"
      },
      "execution_count": null,
      "outputs": []
    },
    {
      "cell_type": "code",
      "source": [],
      "metadata": {
        "id": "CmMoWYg6yRaR"
      },
      "execution_count": null,
      "outputs": []
    },
    {
      "cell_type": "code",
      "source": [
        "kmeans4 = KMeans(n_clusters = 4, n_init = 'auto', random_state = 1)\n",
        "kmeans4.fit(X)\n",
        "y_kmeans4 = kmeans4.predict(X)"
      ],
      "metadata": {
        "id": "e3J-00YQyyFl"
      },
      "execution_count": null,
      "outputs": []
    },
    {
      "cell_type": "code",
      "source": [
        "df1['Cluster'] = kmeans4.labels_\n",
        "df1.head()"
      ],
      "metadata": {
        "id": "ywYlr8jayPlr"
      },
      "execution_count": null,
      "outputs": []
    },
    {
      "cell_type": "code",
      "source": [
        "X = StandardScaler().fit_transform(df1[['Recency', 'Frequency', 'MonetaryValue']])\n",
        "y = df1['Cluster']"
      ],
      "metadata": {
        "id": "6z21rUu2y9E5"
      },
      "execution_count": null,
      "outputs": []
    },
    {
      "cell_type": "code",
      "source": [
        "X_train, X_validate, y_train, y_validate = train_test_split(X, y, test_size = 0.25, random_state=123)"
      ],
      "metadata": {
        "id": "tLFY_hhw6bz-"
      },
      "execution_count": null,
      "outputs": []
    },
    {
      "cell_type": "code",
      "source": [
        " "
      ],
      "metadata": {
        "id": "HuKoe3yVAGVz"
      },
      "execution_count": null,
      "outputs": []
    },
    {
      "cell_type": "code",
      "source": [
        "ADB = AdaBoostClassifier(DecisionTreeClassifier(max_depth=2),\n",
        "                         n_estimators=125,\n",
        "                         learning_rate = 0.8,\n",
        "                         random_state=42)\n",
        "\n",
        "ADB.fit(X_train, y_train)\n",
        "cv = RepeatedStratifiedKFold(n_splits=10, n_repeats=3, random_state=1)"
      ],
      "metadata": {
        "id": "uY906H2WAGOM"
      },
      "execution_count": null,
      "outputs": []
    },
    {
      "cell_type": "code",
      "source": [
        "n_scores = cross_val_score(ADB, X, y, scoring='accuracy', cv=cv, n_jobs=-1, error_score='raise')\n",
        "('Accuracy: %.3f' % (np.mean(n_scores)*100))"
      ],
      "metadata": {
        "id": "E4x0T_n4AGNH"
      },
      "execution_count": null,
      "outputs": []
    },
    {
      "cell_type": "code",
      "source": [
        "labels = ADB.predict(X_validate)\n",
        "matrix = metrics.confusion_matrix(y_validate, labels)\n",
        "# creating a heat map to visualize confusion matrix\n",
        "sns.heatmap(matrix.T, square=True, annot=True, fmt='d', cbar=False)\n",
        "plt.xlabel('true label')\n",
        "plt.ylabel('predicted label');"
      ],
      "metadata": {
        "id": "NqtkezFOAGMD"
      },
      "execution_count": null,
      "outputs": []
    },
    {
      "cell_type": "code",
      "source": [
        "from sklearn.linear_model import LogisticRegression\n",
        "log_reg = LogisticRegression()\n",
        "log_reg.fit(X_train, y_train)\n",
        "log_reg.score(X_validate, y_validate)"
      ],
      "metadata": {
        "id": "SZy54Ydy3kcN"
      },
      "execution_count": null,
      "outputs": []
    },
    {
      "cell_type": "code",
      "source": [
        "kmeans5 = KMeans(n_clusters = 5, n_init = 'auto', random_state = 1)\n",
        "kmeans5.fit(X)\n",
        "y_kmeans5 = kmeans5.predict(X)"
      ],
      "metadata": {
        "id": "DGNmFJ1l_zOW"
      },
      "execution_count": null,
      "outputs": []
    },
    {
      "cell_type": "code",
      "source": [
        "df1['Cluster'] = kmeans5.labels_\n",
        "df1.head()"
      ],
      "metadata": {
        "id": "kfKv2duO_y6d"
      },
      "execution_count": null,
      "outputs": []
    },
    {
      "cell_type": "code",
      "source": [
        "X = StandardScaler().fit_transform(df1[['Recency', 'Frequency', 'MonetaryValue']])\n",
        "y = df1['Cluster']\n",
        "X_train, X_validate, y_train, y_validate = train_test_split(X, y, test_size = 0.25, random_state=123)"
      ],
      "metadata": {
        "id": "fN99fcV8_y3S"
      },
      "execution_count": null,
      "outputs": []
    },
    {
      "cell_type": "code",
      "source": [
        "ADB = AdaBoostClassifier(DecisionTreeClassifier(max_depth=2),\n",
        "                         n_estimators=125,\n",
        "                         learning_rate = 0.8,\n",
        "                         random_state=42)\n",
        "\n",
        "ADB.fit(X_train, y_train)\n",
        "cv = RepeatedStratifiedKFold(n_splits=10, n_repeats=3, random_state=1)\n",
        "n_scores = cross_val_score(ADB, X, y, scoring='accuracy', cv=cv, n_jobs=-1, error_score='raise')\n",
        "('Accuracy: %.3f' % (np.mean(n_scores)*100))"
      ],
      "metadata": {
        "id": "9k4_-JD1BCRc"
      },
      "execution_count": null,
      "outputs": []
    },
    {
      "cell_type": "code",
      "source": [
        "from sklearn.linear_model import LogisticRegression\n",
        "log_reg = LogisticRegression()\n",
        "log_reg.fit(X_train, y_train)\n",
        "log_reg.score(X_validate, y_validate)"
      ],
      "metadata": {
        "id": "m5ar7NzaBCPk"
      },
      "execution_count": null,
      "outputs": []
    },
    {
      "cell_type": "code",
      "source": [],
      "metadata": {
        "id": "WhLCAIpYBCND"
      },
      "execution_count": null,
      "outputs": []
    },
    {
      "cell_type": "code",
      "source": [
        "kmeans3 = KMeans(n_clusters = 3, n_init = 'auto', random_state = 1)\n",
        "kmeans3.fit(X)\n",
        "y_kmeans3 = kmeans3.predict(X)"
      ],
      "metadata": {
        "id": "vX33IZIZBB-0"
      },
      "execution_count": null,
      "outputs": []
    },
    {
      "cell_type": "code",
      "source": [
        "df1['Cluster'] = kmeans3.labels_\n",
        "df1.head()"
      ],
      "metadata": {
        "id": "ZalfbmGR3kPa"
      },
      "execution_count": null,
      "outputs": []
    },
    {
      "cell_type": "code",
      "source": [
        "X = StandardScaler().fit_transform(df1[['Recency', 'Frequency', 'MonetaryValue']])\n",
        "y = df1['Cluster']\n",
        "X_train, X_validate, y_train, y_validate = train_test_split(X, y, test_size = 0.25, random_state=123)"
      ],
      "metadata": {
        "id": "-0y9BZbNWakG"
      },
      "execution_count": null,
      "outputs": []
    },
    {
      "cell_type": "code",
      "source": [
        "ADB = AdaBoostClassifier(DecisionTreeClassifier(max_depth=2),\n",
        "                         n_estimators=125,\n",
        "                         learning_rate = 0.8,\n",
        "                         random_state=42)\n",
        "\n",
        "ADB.fit(X_train, y_train)\n",
        "cv = RepeatedStratifiedKFold(n_splits=10, n_repeats=3, random_state=1)\n",
        "n_scores = cross_val_score(ADB, X, y, scoring='accuracy', cv=cv, n_jobs=-1, error_score='raise')\n",
        "('Accuracy: %.3f' % (np.mean(n_scores)*100))"
      ],
      "metadata": {
        "id": "sEkDnFaAWf15"
      },
      "execution_count": null,
      "outputs": []
    },
    {
      "cell_type": "code",
      "source": [
        "from sklearn.linear_model import LogisticRegression\n",
        "log_reg = LogisticRegression()\n",
        "log_reg.fit(X_train, y_train)\n",
        "log_reg.score(X_validate, y_validate)"
      ],
      "metadata": {
        "id": "Cr0ltofmWjt2"
      },
      "execution_count": null,
      "outputs": []
    },
    {
      "cell_type": "markdown",
      "metadata": {
        "id": "cUWhJeDpzh7Z"
      },
      "source": [
        "### Evaluation of Test Data\n",
        "* Use the model to predict the labels for the Test data below\n",
        "* Format the test data in the same format as the train data.\n",
        "* Predict it with trained supervised ML model"
      ]
    },
    {
      "cell_type": "code",
      "metadata": {
        "id": "fvfXQ8JNkBZ3"
      },
      "source": [
        "# Test set provided as below\n",
        "test = pd.read_csv(\"Online_Retail_Test.csv\")\n",
        "test.head(3)"
      ],
      "execution_count": null,
      "outputs": []
    },
    {
      "cell_type": "code",
      "metadata": {
        "id": "B4rEobc5FSS_"
      },
      "source": [
        "test.info()"
      ],
      "execution_count": null,
      "outputs": []
    },
    {
      "cell_type": "code",
      "source": [
        "test.isnull().sum()"
      ],
      "metadata": {
        "id": "d8E2wVMeJ-z_"
      },
      "execution_count": null,
      "outputs": []
    },
    {
      "cell_type": "code",
      "source": [
        "test.dropna(inplace=True)"
      ],
      "metadata": {
        "id": "GtlpQHioKNwR"
      },
      "execution_count": null,
      "outputs": []
    },
    {
      "cell_type": "code",
      "source": [
        "test.drop_duplicates(subset=None, keep='first', inplace=True, ignore_index=False)\n",
        "test.shape"
      ],
      "metadata": {
        "id": "PmiopioaKTT2"
      },
      "execution_count": null,
      "outputs": []
    },
    {
      "cell_type": "code",
      "source": [
        "test.drop(test[test['InvoiceNo'].str.startswith('C')].index, inplace=True)"
      ],
      "metadata": {
        "id": "YWh5kqD9KNoL"
      },
      "execution_count": null,
      "outputs": []
    },
    {
      "cell_type": "code",
      "source": [
        "test['Total Amount'] = test['Quantity']*test['UnitPrice']\n",
        "test.head()"
      ],
      "metadata": {
        "id": "WOgHyKhtLe7_"
      },
      "execution_count": null,
      "outputs": []
    },
    {
      "cell_type": "code",
      "source": [
        "test['InvoiceDate'] = pd.to_datetime(test['InvoiceDate'])\n",
        "test['InvoiceDate'].dtype"
      ],
      "metadata": {
        "id": "he4dfvvDMnYO"
      },
      "execution_count": null,
      "outputs": []
    },
    {
      "cell_type": "code",
      "source": [
        "snapshot_date = datetime.datetime(2011, 12, 10)\n",
        "test_df = test.groupby(['CustomerID'],as_index=False).agg({\n",
        "'InvoiceDate': lambda x: (snapshot_date - x.max()).days,\n",
        "'InvoiceNo': 'count',\n",
        "'Total Amount': 'sum'}).rename(columns = {'InvoiceDate': 'Recency', 'InvoiceNo': 'Frequency','Total Amount': 'MonetaryValue'})\n",
        "test_df.head()"
      ],
      "metadata": {
        "id": "Mloo-hJNLexv"
      },
      "execution_count": null,
      "outputs": []
    },
    {
      "cell_type": "code",
      "source": [
        "plt.figure(figsize=(12,10))\n",
        "plt.subplot(3, 1, 1); sns.histplot(test_df['Recency'])\n",
        "plt.subplot(3, 1, 2); sns.histplot(test_df['Frequency'])\n",
        "plt.subplot(3, 1, 3); sns.histplot(test_df['MonetaryValue'])"
      ],
      "metadata": {
        "id": "S0dXSPvAKNlW"
      },
      "execution_count": null,
      "outputs": []
    },
    {
      "cell_type": "code",
      "source": [
        "test_df.describe()"
      ],
      "metadata": {
        "id": "HCxCjBJUNdVE"
      },
      "execution_count": null,
      "outputs": []
    },
    {
      "cell_type": "code",
      "source": [
        "test_df.drop(test_df[test_df['Recency']==0].index, inplace=True)\n",
        "test_df.describe()"
      ],
      "metadata": {
        "id": "0dEb4oT3Nhn5"
      },
      "execution_count": null,
      "outputs": []
    },
    {
      "cell_type": "code",
      "source": [
        "test_df1 = np.log10(test_df)"
      ],
      "metadata": {
        "id": "b94GQ6WkKNbD"
      },
      "execution_count": null,
      "outputs": []
    },
    {
      "cell_type": "code",
      "source": [
        "plt.figure(figsize=(12,10))\n",
        "plt.subplot(3, 1, 1); sns.histplot(test_df1['Recency'])\n",
        "plt.subplot(3, 1, 2); sns.histplot(test_df1['Frequency'])\n",
        "plt.subplot(3, 1, 3); sns.histplot(test_df1['MonetaryValue'])"
      ],
      "metadata": {
        "id": "4gPRWqEGN8UO"
      },
      "execution_count": null,
      "outputs": []
    },
    {
      "cell_type": "code",
      "source": [
        "y_test = StandardScaler().fit_transform(test_df1[['Recency', 'Frequency', 'MonetaryValue']])"
      ],
      "metadata": {
        "id": "F0nmPox1N8E5"
      },
      "execution_count": null,
      "outputs": []
    },
    {
      "cell_type": "code",
      "source": [
        "y_test_predADB = ADB.predict(y_test)"
      ],
      "metadata": {
        "id": "xnlVKjP_2IP8"
      },
      "execution_count": null,
      "outputs": []
    },
    {
      "cell_type": "code",
      "source": [
        "y_test_predADB"
      ],
      "metadata": {
        "id": "bDljnb-G2WWh"
      },
      "execution_count": null,
      "outputs": []
    },
    {
      "cell_type": "code",
      "source": [
        "np.unique(y_test_predADB)"
      ],
      "metadata": {
        "id": "0iWKDDQ82Zfd"
      },
      "execution_count": null,
      "outputs": []
    },
    {
      "cell_type": "code",
      "source": [
        "y_test_predlr = log_reg.predict(y_test)"
      ],
      "metadata": {
        "id": "R-tcH9pfSW5g"
      },
      "execution_count": null,
      "outputs": []
    },
    {
      "cell_type": "code",
      "source": [
        "y_test_predlr"
      ],
      "metadata": {
        "id": "AWUWhUORSW2_"
      },
      "execution_count": null,
      "outputs": []
    },
    {
      "cell_type": "code",
      "source": [
        "np.unique(y_test_predlr)"
      ],
      "metadata": {
        "id": "5j7l0g5qSWqZ"
      },
      "execution_count": null,
      "outputs": []
    },
    {
      "cell_type": "code",
      "source": [],
      "metadata": {
        "id": "2T8BQmABSWhJ"
      },
      "execution_count": null,
      "outputs": []
    }
  ]
}